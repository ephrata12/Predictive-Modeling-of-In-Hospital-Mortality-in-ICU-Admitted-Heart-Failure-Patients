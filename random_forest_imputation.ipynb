{
 "cells": [
  {
   "cell_type": "markdown",
   "id": "5c7ffb29",
   "metadata": {},
   "source": [
    "### RANDOM FOREST IMPUTATION"
   ]
  },
  {
   "cell_type": "markdown",
   "id": "104e98d4",
   "metadata": {},
   "source": [
    "#### Import Libraries and Start Timing"
   ]
  },
  {
   "cell_type": "code",
   "execution_count": null,
   "id": "b73108f0-e982-46d9-8c7a-093d2f4a855a",
   "metadata": {},
   "outputs": [],
   "source": [
    "import numpy as np\n",
    "import pandas as pd\n",
    "import re\n",
    "from sklearn.ensemble import RandomForestRegressor\n",
    "from sklearn.experimental import enable_iterative_imputer  # Enabling iterative imputer\n",
    "from sklearn.impute import IterativeImputer\n",
    "import time\n",
    "\n",
    "# Start timing the imputation process\n",
    "start_time = time.time()"
   ]
  },
  {
   "cell_type": "markdown",
   "id": "f07d41ae",
   "metadata": {},
   "source": [
    "#### Load and Preprocess Data"
   ]
  },
  {
   "cell_type": "code",
   "execution_count": null,
   "id": "62f18584",
   "metadata": {},
   "outputs": [],
   "source": [
    "# Load the dataset\n",
    "merged_df_NEW = pd.read_csv('merged_df_NEW.csv')\n",
    "\n",
    "# Convert datetime columns to numeric (timestamp) for imputation\n",
    "merged_df_NEW['admittime'] = pd.to_datetime(merged_df_NEW['admittime'])\n",
    "merged_df_NEW['admittime'] = merged_df_NEW['admittime'].astype(int) / 10**9  # Convert datetime to seconds since epoch\n",
    "\n",
    "# Clean column names to remove special characters\n",
    "cleaned_columns = [re.sub(r'\\W+', '_', col) for col in merged_df_NEW.columns]\n",
    "merged_df_NEW.columns = cleaned_columns"
   ]
  },
  {
   "cell_type": "markdown",
   "id": "0f4791c1",
   "metadata": {},
   "source": [
    "#### Separate Columns for Imputation"
   ]
  },
  {
   "cell_type": "code",
   "execution_count": null,
   "id": "60f08712",
   "metadata": {},
   "outputs": [],
   "source": [
    "# Columns to exclude from imputation\n",
    "exclude_columns = ['survival_time', 'deathtime', 'LOS']\n",
    "# Ensure exclude_columns exist in the DataFrame\n",
    "exclude_columns = [col for col in exclude_columns if col in merged_df_NEW.columns]\n",
    "\n",
    "# Separate columns to impute (numerical columns) and columns to exclude\n",
    "columns_to_impute = merged_df_NEW.drop(columns=exclude_columns).select_dtypes(include=[np.number]).columns\n",
    "data_to_impute = merged_df_NEW[columns_to_impute]"
   ]
  },
  {
   "cell_type": "markdown",
   "id": "3d749e12",
   "metadata": {},
   "source": [
    "#### Define Imputer and Perform Imputation"
   ]
  },
  {
   "cell_type": "code",
   "execution_count": null,
   "id": "b044139b",
   "metadata": {},
   "outputs": [],
   "source": [
    "# Define the random forest model to be used for imputation\n",
    "rf_model = RandomForestRegressor(n_estimators=100, random_state=0)\n",
    "\n",
    "# Create an IterativeImputer using the defined RandomForestRegressor\n",
    "imputer = IterativeImputer(estimator=rf_model, max_iter=10, random_state=0)\n",
    "\n",
    "# Perform the imputation\n",
    "imputed_data = imputer.fit_transform(data_to_impute)\n",
    "\n",
    "# Convert the imputed data back to a DataFrame\n",
    "completed_data = pd.DataFrame(imputed_data, columns=columns_to_impute)"
   ]
  },
  {
   "cell_type": "markdown",
   "id": "4be0f86f",
   "metadata": {},
   "source": [
    "#### Combine Imputed and Excluded Data"
   ]
  },
  {
   "cell_type": "code",
   "execution_count": null,
   "id": "58ab0485",
   "metadata": {},
   "outputs": [],
   "source": [
    "# Combine the imputed data with the excluded columns\n",
    "imputed_df_RF = pd.concat([completed_data, merged_df_NEW[exclude_columns].reset_index(drop=True)], axis=1)\n",
    "\n",
    "# Convert the datetime column back to its original form\n",
    "imputed_df_RF['admittime'] = pd.to_datetime(imputed_df_RF['admittime'] * 10**9)"
   ]
  },
  {
   "cell_type": "markdown",
   "id": "80bd8751",
   "metadata": {},
   "source": [
    "#### Save Imputed Data and End Timing"
   ]
  },
  {
   "cell_type": "code",
   "execution_count": null,
   "id": "35332918",
   "metadata": {},
   "outputs": [],
   "source": [
    "# Save the imputed DataFrame to a CSV file\n",
    "imputed_df_RF.to_csv('RF_imputation_NEW.csv', index=False)\n",
    "\n",
    "# End timing the imputation process\n",
    "end_time = time.time()\n",
    "print(\"Execution Time:\", end_time - start_time, \"seconds\")"
   ]
  }
 ],
 "metadata": {
  "kernelspec": {
   "display_name": "Python 3 (ipykernel)",
   "language": "python",
   "name": "python3"
  },
  "language_info": {
   "codemirror_mode": {
    "name": "ipython",
    "version": 3
   },
   "file_extension": ".py",
   "mimetype": "text/x-python",
   "name": "python",
   "nbconvert_exporter": "python",
   "pygments_lexer": "ipython3",
   "version": "3.10.9"
  }
 },
 "nbformat": 4,
 "nbformat_minor": 5
}
